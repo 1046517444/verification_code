{
 "cells": [
  {
   "cell_type": "markdown",
   "metadata": {},
   "source": [
    "# 使用企业公示网做例子\n",
    "\n",
    "获取gt和challenge两个参数"
   ]
  },
  {
   "cell_type": "code",
   "execution_count": 1,
   "metadata": {},
   "outputs": [],
   "source": [
    "import requests"
   ]
  },
  {
   "cell_type": "code",
   "execution_count": 2,
   "metadata": {},
   "outputs": [],
   "source": [
    "# 企业公示网做例子\n",
    "index_url = 'http://www.gsxt.gov.cn/index.html'\n",
    "index_header= {\n",
    "            'accept': \"text/html,application/xhtml+xml,application/xml;q=0.9,image/webp,image/apng,*/*;q=0.8,application/signed-exchange;v=b3\",\n",
    "            'accept-encoding': \"gzip, deflate\",\n",
    "            'accept-language': \"zh-CN,zh;q=0.9\",\n",
    "            'connection': \"keep-alive\",\n",
    "            'host': \"www.gsxt.gov.cn\",\n",
    "            'upgrade-insecure-requests': \"1\",\n",
    "            'Referer': 'http://www.gsxt.gov.cn/index.html',\n",
    "            \"User-Agent\": \"Mozilla/5.0 (X11; Linux x86_64) AppleWebKit/537.36 (KHTML, like Gecko) Chrome/78.0.3904.108 Safari/537.36\",\n",
    "        }"
   ]
  },
  {
   "cell_type": "code",
   "execution_count": null,
   "metadata": {},
   "outputs": [],
   "source": [
    "# 代理手动配置，避免本地的IP被封了\n",
    "proxy = {\n",
    "        \"https\": \"https://\" + \"60.188.9.176:3000\",\n",
    "        # \"http\": \"http://\" + \"60.167.135.237:8118\"\n",
    "}"
   ]
  },
  {
   "cell_type": "code",
   "execution_count": 3,
   "metadata": {},
   "outputs": [],
   "source": [
    "response = requests.get(index_url, headers=index_header, proxies=proxy)"
   ]
  },
  {
   "cell_type": "markdown",
   "metadata": {},
   "source": [
    "获取到第一段JS代码"
   ]
  },
  {
   "cell_type": "code",
   "execution_count": 4,
   "metadata": {
    "scrolled": true
   },
   "outputs": [
    {
     "data": {
      "text/plain": [
       "'<script>var x=\"String@2@@toString@@@window@@13@@@@reverse@g@@if@challenge@GMT@captcha@3@@@1500@D@@7@@join@09@replace@split@@@Expires@@@@May@eval@match@@0xFF@rOm9XFMtA3QKV7nYsPGT4lifyWwkq5vcjH2IdxUoCbhERLaz81DNB6@cookie@fromCharCode@setTimeout@U@length@hCSR@@return@div@@toLowerCase@@@20@36@Array@for@@0g@k@01@8@__jsl_clearance@@0@charAt@substr@1@chars@@JgSe0upZ@48@Path@e@DOMContentLoaded@location@while@@@pathname@f@catch@function@0xEDB88320@@@createElement@search@new@@parseInt@@a@@4@9@@@Wed@firstChild@@charCodeAt@var@d@l@@https@@href@else@document@1589359681@attachEvent@innerHTML@try@@addEventListener@435@@onreadystatechange@RegExp@@@false@\".replace(/@*$/,\"\").split(\"@\"),y=\"3a 3f=2m(){1e(\\'2f.3g=2f.2j+2f.2r.u(/[\\\\\\\\?|&]j-h/,\\\\\\\\\\'\\\\\\\\\\')\\',n);3i.1c=\\'22=3j.3p|24|\\'+(2m(){3a 34=[2m(3f){1j 3f},2m(34){1j 34},2m(3f){1j 17(\\'1.1d(\\'+3f+\\')\\')},2m(3f){1s(3a 34=24;34<3f.1g;34++){3f[34]=2u(3f[34]).4(1q)};1j 3f.s(\\'\\')}],3f=[(-~[]-~[]+(-~{}|-~[]-~[])+[]),\\'3c\\',(-~[]-~[]+(-~{}|-~[]-~[])+[]),[[-~[((+!~~{})+[(-~~~[]<<-~~~[])]>>(-~~~[]<<-~~~[]))+((+!~~{})+[(-~~~[]<<-~~~[])]>>(-~~~[]<<-~~~[]))]]+[-~[]-~[]]],[[-~[]-~[]]+((+!{})+[[]][24])],\\'27\\',((+!{})+[[]][24]),\\'30\\',[(-~~~[]+q+[]+[])+(-~[]-~[]+(-~{}|-~[]-~[])+[])],\\'1f\\',[(-~!/!/+2+[])+[-~[((+!~~{})+[(-~~~[]<<-~~~[])]>>(-~~~[]<<-~~~[]))+((+!~~{})+[(-~~~[]<<-~~~[])]>>(-~~~[]<<-~~~[]))]]],\\'2\\',[((-~!/!/+[(-~~~[]<<-~~~[])])/[(-~~~[]<<-~~~[])]+[]+[])+((-~!/!/+[(-~~~[]<<-~~~[])])/[(-~~~[]<<-~~~[])]+[]+[])],\\'1u\\',[(-~[]-~[]<<(+!~~{}))],\\'1h\\',[[-~[((+!~~{})+[(-~~~[]<<-~~~[])]>>(-~~~[]<<-~~~[]))+((+!~~{})+[(-~~~[]<<-~~~[])]>>(-~~~[]<<-~~~[]))]]+[-~[((+!~~{})+[(-~~~[]<<-~~~[])]>>(-~~~[]<<-~~~[]))+((+!~~{})+[(-~~~[]<<-~~~[])]>>(-~~~[]<<-~~~[]))]]],[(-~~~[]+[]+[[]][24])+(-~[]-~[]+(-~{}|-~[]-~[])+[])],\\'32\\',[[-~[((+!~~{})+[(-~~~[]<<-~~~[])]>>(-~~~[]<<-~~~[]))+((+!~~{})+[(-~~~[]<<-~~~[])]>>(-~~~[]<<-~~~[]))]]+((+!{})+[[]][24])],\\'1v\\',[(-~~~[]+q+[]+[])+[33]],[[-~[]-~[]]+[33],(-~!/!/+2+[])+(-~~~[]+[]+[[]][24])],[[-~[((+!~~{})+[(-~~~[]<<-~~~[])]>>(-~~~[]<<-~~~[]))+((+!~~{})+[(-~~~[]<<-~~~[])]>>(-~~~[]<<-~~~[]))]]+[-~[((+!~~{})+[(-~~~[]<<-~~~[])]>>(-~~~[]<<-~~~[]))+((+!~~{})+[(-~~~[]<<-~~~[])]>>(-~~~[]<<-~~~[]))]],(-~!/!/+2+[])+[-~[((+!~~{})+[(-~~~[]<<-~~~[])]>>(-~~~[]<<-~~~[]))+((+!~~{})+[(-~~~[]<<-~~~[])]>>(-~~~[]<<-~~~[]))]]],(-~!/!/+2+[]),\\'o\\'];1s(3a 8=24;8<3f.1g;8++){3f[8]=34[[24,27,24,2,k,27,24,27,2,27,2,27,2,27,24,27,2,k,27,2,27,2,k,2,24,27][8]](3f[8])};1j 3f.s(\\'\\')})()+\\';12=36, 9-16-1p t:2b:20 i;2c=/;\\'};g((2m(){3m{1j !!7.3o;}2l(2d){1j 3v;}})()){3i.3o(\\'2e\\',3f,3v)}3h{3i.3k(\\'3r\\',3f)}\",f=function(x,y){var a=0,b=0,c=0;x=x.split(\"\");y=y||99;while((a=x.shift())&&(b=a.charCodeAt(0)-77.5))c=(Math.abs(b)<13?(b+48.5):parseInt(a,36))+y*c;return c},z=f(y.match(/\\\\w/g).sort(function(x,y){return f(x)-f(y)}).pop());while(z++)try{eval(y.replace(/\\\\b\\\\w+\\\\b/g, function(y){return x[f(y,z)-1]||(\"_\"+y)}));break}catch(_){}</script>\\x00\\x00\\x00\\x00\\x00\\x00\\x00\\x00\\x00\\x00\\x00\\x00\\x00\\x00\\x00\\x00\\x00\\x00\\x00\\x00\\x00\\x00\\x00\\x00\\x00\\x00\\x00\\x00\\x00\\x00\\x00\\x00\\x00\\x00\\x00\\x00\\x00\\x00\\x00\\x00\\x00\\x00\\x00\\x00\\x00\\x00\\x00\\x00\\x00\\x00\\x00\\x00\\x00\\x00\\x00\\x00\\x00\\x00\\x00\\x00\\x00\\x00\\x00\\x00\\x00\\x00\\x00\\x00\\x00\\x00\\x00\\x00\\x00\\x00\\x00\\x00\\x00\\x00\\x00\\x00\\x00\\x00\\x00\\x00\\x00\\x00\\x00\\x00\\x00\\x00\\x00\\x00\\x00\\x00\\x00\\x00\\x00\\x00\\x00\\x00\\x00\\x00\\x00\\x00\\x00\\x00\\x00\\x00\\x00\\x00\\x00\\x00\\x00\\x00\\x00\\x00\\x00\\x00\\x00\\x00\\x00\\x00\\x00\\x00\\x00\\x00\\x00\\x00\\x00\\x00\\x00\\x00\\x00\\x00\\x00\\x00\\x00\\x00\\x00\\x00\\x00\\x00\\x00\\x00\\x00\\x00\\x00\\x00\\x00\\x00\\x00\\x00\\x00\\x00\\x00\\x00\\x00\\x00\\x00\\x00\\x00\\x00\\x00\\x00\\x00\\x00\\x00\\x00\\x00\\x00\\x00\\x00\\x00\\x00\\x00\\x00\\x00\\x00\\x00\\x00\\x00\\x00\\x00\\x00\\x00\\x00\\x00\\x00\\x00\\x00\\x00\\x00\\x00\\x00\\x00\\x00\\x00\\x00\\x00\\x00\\x00\\x00\\x00\\x00\\x00\\x00\\x00\\x00\\x00\\x00\\x00\\x00\\x00\\x00\\x00\\x00\\x00\\x00\\x00\\x00\\x00\\x00\\x00\\x00\\x00\\x00\\x00\\x00\\x00\\x00\\x00\\x00\\x00\\x00\\x00\\x00\\x00\\x00\\x00\\x00\\x00\\x00\\x00\\x00\\x00\\x00\\x00\\x00\\x00\\x00\\x00\\x00\\x00\\x00\\x00\\x00\\x00\\x00\\x00\\x00\\x00\\x00\\x00\\x00\\x00\\x00\\x00\\x00\\x00\\x00\\x00\\x00\\x00\\x00\\x00\\x00\\x00\\x00\\x00\\x00\\x00\\x00\\x00\\x00\\x00\\x00\\x00\\x00\\x00\\x00\\x00\\x00\\x00\\x00\\x00\\x00\\x00\\x00\\x00\\x00\\x00\\x00\\x00\\x00\\x00\\x00\\x00\\x00\\x00\\x00\\x00\\x00\\x00\\x00\\x00\\x00\\x00\\x00\\x00\\x00\\x00\\x00\\x00\\x00\\x00\\x00\\x00\\x00\\x00\\x00\\x00\\x00\\x00\\x00\\x00\\x00\\x00\\x00\\x00\\x00\\x00\\x00\\x00\\x00\\x00\\x00\\x00\\x00\\x00\\x00\\x00\\x00\\x00\\x00\\x00\\x00\\x00\\x00\\x00\\x00\\x00\\x00\\x00\\x00\\x00\\x00\\x00\\x00\\x00\\x00\\x00\\x00\\x00\\x00\\x00\\x00\\x00\\x00\\x00\\x00\\x00\\x00\\x00\\x00\\x00\\x00\\x00\\x00\\x00\\x00\\x00\\x00\\x00\\x00\\x00\\x00\\x00\\x00\\x00\\x00\\x00\\x00\\x00\\x00\\x00\\x00\\x00\\x00\\x00\\x00\\x00\\x00\\x00\\x00\\x00\\x00\\x00\\x00\\x00\\x00\\x00\\x00\\x00\\x00\\x00\\x00\\x00\\x00\\x00\\x00\\x00\\x00\\x00\\x00\\x00\\x00\\x00\\x00\\x00\\x00\\x00\\x00\\x00\\x00\\x00\\x00\\x00\\x00\\x00\\x00\\x00\\x00\\x00\\x00\\x00\\x00\\x00\\x00\\x00\\x00\\x00\\x00\\x00\\x00\\x00\\x00\\x00\\x00\\x00\\x00\\x00\\x00\\x00\\x00\\x00\\x00\\x00\\x00\\x00\\x00\\x00\\x00\\x00\\x00\\x00\\x00\\x00\\x00\\x00\\x00\\x00\\x00\\x00\\x00\\x00\\x00\\x00\\x00\\x00\\x00\\x00\\x00\\x00\\x00\\x00\\x00\\x00\\x00\\x00\\x00\\x00\\x00\\x00\\x00\\x00\\x00\\x00\\x00\\x00\\x00\\x00\\x00\\x00\\x00\\x00\\x00\\x00\\x00\\x00\\x00\\x00\\x00\\x00\\x00\\x00\\x00\\x00\\x00\\x00\\x00\\x00\\x00\\x00\\x00\\x00\\x00\\x00\\x00\\x00\\x00\\x00\\x00\\x00\\x00\\x00\\x00\\x00\\x00\\x00\\x00\\x00\\x00\\x00\\x00\\x00\\x00\\x00\\x00\\x00\\x00\\x00\\x00\\x00\\x00\\x00\\x00\\x00\\x00\\x00\\x00\\x00\\x00\\x00\\x00\\x00\\x00\\x00\\x00\\x00\\x00\\x00\\x00\\x00\\x00\\x00\\x00\\x00\\x00\\x00\\x00\\x00\\x00\\x00\\x00\\x00\\x00\\x00\\x00\\x00\\x00\\x00\\x00\\x00\\x00\\x00\\x00\\x00\\x00\\x00\\x00\\x00\\x00\\x00\\x00\\x00\\x00\\x00\\x00\\x00\\x00\\x00\\x00\\x00\\x00\\x00\\x00\\x00\\x00\\x00\\x00\\x00\\x00\\x00\\x00\\x00\\x00\\x00\\x00\\x00\\x00\\x00\\x00\\x00\\x00\\x00\\x00\\x00\\x00\\x00\\x00\\x00\\x00\\x00\\x00\\x00\\x00\\x00\\x00\\x00\\x00\\x00\\x00\\x00\\x00\\x00\\x00\\x00\\x00\\x00\\x00\\x00\\x00\\x00\\x00\\x00\\x00\\x00\\x00\\x00\\x00\\x00\\x00\\x00\\x00\\x00\\x00\\x00\\x00\\x00\\x00\\x00\\x00\\x00\\x00\\x00\\x00\\x00\\x00\\x00\\x00\\x00\\x00\\x00\\x00\\x00\\x00\\x00\\x00\\x00\\x00\\x00\\x00\\x00\\x00\\x00\\x00\\x00\\x00\\x00\\x00\\x00\\x00\\x00\\x00\\x00\\x00\\x00\\x00\\x00\\x00\\x00\\x00\\x00\\x00\\x00\\x00\\x00\\x00\\x00\\x00\\x00\\x00\\x00\\x00\\x00\\x00\\x00\\x00\\x00\\x00\\x00\\x00\\x00\\x00\\x00\\x00\\x00\\x00\\x00\\x00\\x00\\x00\\x00\\x00\\x00\\x00\\x00\\x00\\x00\\x00\\x00\\x00\\x00\\x00\\x00\\x00\\x00\\x00\\x00\\x00\\x00\\x00\\x00\\x00\\x00\\x00\\x00\\x00\\x00\\x00\\x00\\x00\\x00\\x00\\x00\\x00\\x00\\x00\\x00\\x00\\x00\\x00\\x00\\x00\\x00\\x00\\x00\\x00\\x00\\x00\\x00\\x00\\x00\\x00\\x00\\x00\\x00\\x00\\x00\\x00\\x00\\x00\\x00\\x00\\x00\\x00\\x00\\x00\\x00\\x00\\x00\\x00\\x00\\x00\\x00\\x00\\x00\\x00\\x00\\x00\\x00\\x00\\x00\\x00\\x00\\x00\\x00\\x00\\x00\\x00\\x00\\x00\\x00\\x00\\x00\\x00\\x00\\x00\\x00\\x00\\x00\\x00\\x00\\x00\\x00\\x00\\x00\\x00\\x00\\x00\\x00\\x00\\x00\\x00\\x00\\x00\\x00\\x00\\x00\\x00\\x00\\x00\\x00\\x00\\x00\\x00\\x00\\x00\\x00\\x00\\x00\\x00\\x00\\x00\\x00\\x00\\x00\\x00\\x00\\x00\\x00\\x00\\x00\\x00\\x00\\x00\\x00\\x00\\x00\\x00\\x00\\x00\\x00\\x00\\x00\\x00\\x00\\x00\\x00\\x00\\x00\\x00\\x00\\x00\\x00\\x00\\x00\\x00\\x00\\x00\\x00\\x00\\x00\\x00\\x00\\x00\\x00\\x00\\x00\\x00\\x00\\x00\\x00\\x00\\x00\\x00\\x00\\x00\\x00\\x00\\x00\\x00\\x00\\x00\\x00\\x00\\x00\\x00\\x00\\x00\\x00\\x00\\x00\\x00\\x00\\x00\\x00\\x00\\x00\\x00\\x00\\x00\\x00\\x00\\x00\\x00\\x00\\x00\\x00\\x00\\x00\\x00\\x00\\x00\\x00\\x00\\x00\\x00\\x00\\x00\\x00\\x00\\x00\\x00\\x00\\x00\\x00\\x00\\x00\\x00\\x00\\x00\\x00\\x00\\x00\\x00\\x00\\x00\\x00\\x00\\x00\\x00\\x00\\x00\\x00\\x00\\x00\\x00\\x00\\x00\\x00\\x00\\x00\\x00\\x00\\x00\\x00\\x00\\x00\\x00\\x00\\x00\\x00\\x00\\x00\\x00\\x00\\x00\\x00\\x00\\x00\\x00\\x00\\x00\\x00\\x00\\x00\\x00\\x00\\x00\\x00\\x00\\x00\\x00\\x00\\x00\\x00\\x00\\x00\\x00\\x00\\x00\\x00\\x00\\x00\\x00\\x00\\x00\\x00\\x00\\x00\\x00\\x00\\x00\\x00\\x00\\x00\\x00\\x00\\x00\\x00\\x00\\x00\\x00\\x00\\x00\\x00\\x00\\x00\\x00\\x00\\x00\\x00\\x00\\x00\\x00\\x00\\x00\\x00\\x00\\x00\\x00\\x00\\x00\\x00\\x00\\x00\\x00\\x00\\x00\\x00\\x00\\x00\\x00\\x00\\x00\\x00\\x00\\x00\\x00\\x00\\x00\\x00\\x00\\x00\\x00\\x00\\x00\\x00\\x00\\x00\\x00\\x00\\x00\\x00\\x00\\x00\\x00\\x00\\x00\\x00\\x00\\x00\\x00\\x00\\x00\\x00\\x00\\x00\\x00\\x00\\x00\\x00\\x00\\x00\\x00\\x00\\x00\\x00\\x00\\x00\\x00\\x00\\x00\\x00\\x00\\x00\\x00\\x00\\x00\\x00\\x00\\x00\\x00\\x00\\x00\\x00\\x00\\x00\\x00\\x00\\x00\\x00\\x00\\x00\\x00\\x00\\x00\\x00\\x00\\x00\\x00\\x00\\x00\\x00\\x00\\x00\\x00\\x00\\x00\\x00\\x00\\x00\\x00\\x00\\x00\\x00\\x00\\x00\\x00\\x00\\x00\\x00\\x00\\x00\\x00\\x00\\x00\\x00\\x00\\x00\\x00\\x00\\x00\\x00\\x00\\x00\\x00\\x00\\x00\\x00\\x00\\n'"
      ]
     },
     "execution_count": 4,
     "metadata": {},
     "output_type": "execute_result"
    }
   ],
   "source": [
    "response.text    # 获取第一段js"
   ]
  },
  {
   "cell_type": "markdown",
   "metadata": {},
   "source": [
    "获取jsluid参数"
   ]
  },
  {
   "cell_type": "code",
   "execution_count": 5,
   "metadata": {},
   "outputs": [
    {
     "data": {
      "text/plain": [
       "'661db5f058da0b3b5c61ffa1caf1549e'"
      ]
     },
     "execution_count": 5,
     "metadata": {},
     "output_type": "execute_result"
    }
   ],
   "source": [
    "jsluid = response.headers['Set-Cookie'].split('=')[1].split(';')[0]    \n",
    "jsluid"
   ]
  },
  {
   "cell_type": "markdown",
   "metadata": {},
   "source": [
    "解密出第二段js代码"
   ]
  },
  {
   "cell_type": "code",
   "execution_count": 6,
   "metadata": {},
   "outputs": [
    {
     "data": {
      "text/plain": [
       "\"var _3f=function(){setTimeout('location.href=location.pathname+location.search.replace(/[\\\\\\\\?|&]captcha-challenge/,\\\\\\\\'\\\\\\\\')',1500);document.cookie='__jsl_clearance=1589359681.435|0|'+(function(){var _34=[function(_3f){return _3f},function(_34){return _34},function(_3f){return eval('String.fromCharCode('+_3f+')')},function(_3f){for(var _34=0;_34<_3f.length;_34++){_3f[_34]=parseInt(_3f[_34]).toString(36)};return _3f.join('')}],_3f=[(-~[]-~[]+(-~{}|-~[]-~[])+[]),'l',(-~[]-~[]+(-~{}|-~[]-~[])+[]),[[-~[((+!~~{})+[(-~~~[]<<-~~~[])]>>(-~~~[]<<-~~~[]))+((+!~~{})+[(-~~~[]<<-~~~[])]>>(-~~~[]<<-~~~[]))]]+[-~[]-~[]]],[[-~[]-~[]]+((+!{})+[[]][0])],'1',((+!{})+[[]][0]),'a',[(-~~~[]+7+[]+[])+(-~[]-~[]+(-~{}|-~[]-~[])+[])],'U',[(-~!/!/+2+[])+[-~[((+!~~{})+[(-~~~[]<<-~~~[])]>>(-~~~[]<<-~~~[]))+((+!~~{})+[(-~~~[]<<-~~~[])]>>(-~~~[]<<-~~~[]))]]],'2',[((-~!/!/+[(-~~~[]<<-~~~[])])/[(-~~~[]<<-~~~[])]+[]+[])+((-~!/!/+[(-~~~[]<<-~~~[])])/[(-~~~[]<<-~~~[])]+[]+[])],'0g',[(-~[]-~[]<<(+!~~{}))],'hCSR',[[-~[((+!~~{})+[(-~~~[]<<-~~~[])]>>(-~~~[]<<-~~~[]))+((+!~~{})+[(-~~~[]<<-~~~[])]>>(-~~~[]<<-~~~[]))]]+[-~[((+!~~{})+[(-~~~[]<<-~~~[])]>>(-~~~[]<<-~~~[]))+((+!~~{})+[(-~~~[]<<-~~~[])]>>(-~~~[]<<-~~~[]))]]],[(-~~~[]+[]+[[]][0])+(-~[]-~[]+(-~{}|-~[]-~[])+[])],'4',[[-~[((+!~~{})+[(-~~~[]<<-~~~[])]>>(-~~~[]<<-~~~[]))+((+!~~{})+[(-~~~[]<<-~~~[])]>>(-~~~[]<<-~~~[]))]]+((+!{})+[[]][0])],'k',[(-~~~[]+7+[]+[])+[9]],[[-~[]-~[]]+[9],(-~!/!/+2+[])+(-~~~[]+[]+[[]][0])],[[-~[((+!~~{})+[(-~~~[]<<-~~~[])]>>(-~~~[]<<-~~~[]))+((+!~~{})+[(-~~~[]<<-~~~[])]>>(-~~~[]<<-~~~[]))]]+[-~[((+!~~{})+[(-~~~[]<<-~~~[])]>>(-~~~[]<<-~~~[]))+((+!~~{})+[(-~~~[]<<-~~~[])]>>(-~~~[]<<-~~~[]))]],(-~!/!/+2+[])+[-~[((+!~~{})+[(-~~~[]<<-~~~[])]>>(-~~~[]<<-~~~[]))+((+!~~{})+[(-~~~[]<<-~~~[])]>>(-~~~[]<<-~~~[]))]]],(-~!/!/+2+[]),'D'];for(var _8=0;_8<_3f.length;_8++){_3f[_8]=_34[[0,1,0,2,3,1,0,1,2,1,2,1,2,1,0,1,2,3,1,2,1,2,3,2,0,1][_8]](_3f[_8])};return _3f.join('')})()+';Expires=Wed, 13-May-20 09:48:01 GMT;Path=/;'};if((function(){try{return !!window.addEventListener;}catch(e){return false;}})()){document.addEventListener('DOMContentLoaded',_3f,false)}else{document.attachEvent('onreadystatechange',_3f)}\""
      ]
     },
     "execution_count": 6,
     "metadata": {},
     "output_type": "execute_result"
    }
   ],
   "source": [
    "import re\n",
    "import execjs\n",
    "\n",
    "\n",
    "des_js = 'function get_z(x, y) {\\n    f = function (x, y) {\\n        var a = 0,\\n            b = 0,\\n            c = 0;\\n        x = x.split(\"\");\\n        y = y || 99;\\n        while ((a = x.shift()) && (b = a.charCodeAt(0) - 77.5)) c = (Math.abs(b) < 13 ? (b + 48.5) : parseInt(a, 36)) + y * c;\\n        return c\\n    };\\n    x = x.replace(/@*$/, \"\").split(\"@\");\\n    z = f(y.match(/\\\\w/g).sort(function (x, y) {\\n        return f(x) - f(y)\\n    }).pop());\\n    return [x, y, z]\\n\\n}\\n\\nfunction get_js(x, y, z) {\\n    f = function (x, y) {\\n        var a = 0,\\n            b = 0,\\n            c = 0;\\n        x = x.split(\"\");\\n        y = y || 99;\\n        while ((a = x.shift()) && (b = a.charCodeAt(0) - 77.5)) c = (Math.abs(b) < 13 ? (b + 48.5) : parseInt(a, 36)) + y * c;\\n        return c\\n    };\\n    x = eval(x);\\n    z = z + 1;\\n    p = y.replace(/\\\\b\\\\w+\\\\b/g,\\n        function (y) {\\n            return x[f(y, z) - 1] || (\"_\" + y)\\n        });\\n    return p\\n\\n}\\n\\n\\nfunction once_js(x, y) {\\n    f = function (x, y) {\\n        var a = 0,\\n            b = 0,\\n            c = 0;\\n        x = x.split(\"\");\\n        y = y || 99;\\n        while ((a = x.shift()) && (b = a.charCodeAt(0) - 77.5)) c = (Math.abs(b) < 13 ? (b + 48.5) : parseInt(a, 36)) + y * c;\\n        return c\\n    },\\n        x = x.replace(/@*$/, \"\").split(\"@\");\\n    z = f(y.match(/\\\\w/g).sort(function (x, y) {\\n        return f(x) - f(y)\\n    }).pop());\\n    while (z++) try {\\n        g = y.replace(/\\\\b\\\\w+\\\\b/g,\\n            function (y) {\\n                return x[f(y, z) - 1] || (\"_\" + y)\\n            });\\n        return g\\n    } catch (_) {\\n    }\\n}'\n",
    "des_js = execjs.compile(des_js)\n",
    "first_js = response.text\n",
    "x = re.findall('var x=\"(.*?)\"', first_js)[0]\n",
    "y = re.findall(',y=\"(.*?)\"', first_js)[0]\n",
    "second_js = des_js.call('once_js', x, y)\n",
    "second_js"
   ]
  },
  {
   "cell_type": "markdown",
   "metadata": {},
   "source": [
    "处理第二段js，去除document"
   ]
  },
  {
   "cell_type": "code",
   "execution_count": 7,
   "metadata": {},
   "outputs": [
    {
     "data": {
      "text/plain": [
       "\"cookie='__jsl_clearance=1589359681.435|0|'+(function(){var _34=[function(_3f){return _3f},function(_34){return _34},function(_3f){return eval('String.fromCharCode('+_3f+')')},function(_3f){for(var _34=0;_34<_3f.length;_34++){_3f[_34]=parseInt(_3f[_34]).toString(36)};return _3f.join('')}],_3f=[(-~[]-~[]+(-~{}|-~[]-~[])+[]),'l',(-~[]-~[]+(-~{}|-~[]-~[])+[]),[[-~[((+!~~{})+[(-~~~[]<<-~~~[])]>>(-~~~[]<<-~~~[]))+((+!~~{})+[(-~~~[]<<-~~~[])]>>(-~~~[]<<-~~~[]))]]+[-~[]-~[]]],[[-~[]-~[]]+((+!{})+[[]][0])],'1',((+!{})+[[]][0]),'a',[(-~~~[]+7+[]+[])+(-~[]-~[]+(-~{}|-~[]-~[])+[])],'U',[(-~!/!/+2+[])+[-~[((+!~~{})+[(-~~~[]<<-~~~[])]>>(-~~~[]<<-~~~[]))+((+!~~{})+[(-~~~[]<<-~~~[])]>>(-~~~[]<<-~~~[]))]]],'2',[((-~!/!/+[(-~~~[]<<-~~~[])])/[(-~~~[]<<-~~~[])]+[]+[])+((-~!/!/+[(-~~~[]<<-~~~[])])/[(-~~~[]<<-~~~[])]+[]+[])],'0g',[(-~[]-~[]<<(+!~~{}))],'hCSR',[[-~[((+!~~{})+[(-~~~[]<<-~~~[])]>>(-~~~[]<<-~~~[]))+((+!~~{})+[(-~~~[]<<-~~~[])]>>(-~~~[]<<-~~~[]))]]+[-~[((+!~~{})+[(-~~~[]<<-~~~[])]>>(-~~~[]<<-~~~[]))+((+!~~{})+[(-~~~[]<<-~~~[])]>>(-~~~[]<<-~~~[]))]]],[(-~~~[]+[]+[[]][0])+(-~[]-~[]+(-~{}|-~[]-~[])+[])],'4',[[-~[((+!~~{})+[(-~~~[]<<-~~~[])]>>(-~~~[]<<-~~~[]))+((+!~~{})+[(-~~~[]<<-~~~[])]>>(-~~~[]<<-~~~[]))]]+((+!{})+[[]][0])],'k',[(-~~~[]+7+[]+[])+[9]],[[-~[]-~[]]+[9],(-~!/!/+2+[])+(-~~~[]+[]+[[]][0])],[[-~[((+!~~{})+[(-~~~[]<<-~~~[])]>>(-~~~[]<<-~~~[]))+((+!~~{})+[(-~~~[]<<-~~~[])]>>(-~~~[]<<-~~~[]))]]+[-~[((+!~~{})+[(-~~~[]<<-~~~[])]>>(-~~~[]<<-~~~[]))+((+!~~{})+[(-~~~[]<<-~~~[])]>>(-~~~[]<<-~~~[]))]],(-~!/!/+2+[])+[-~[((+!~~{})+[(-~~~[]<<-~~~[])]>>(-~~~[]<<-~~~[]))+((+!~~{})+[(-~~~[]<<-~~~[])]>>(-~~~[]<<-~~~[]))]]],(-~!/!/+2+[]),'D'];for(var _8=0;_8<_3f.length;_8++){_3f[_8]=_34[[0,1,0,2,3,1,0,1,2,1,2,1,2,1,0,1,2,3,1,2,1,2,3,2,0,1][_8]](_3f[_8])};return _3f.join('')})()+';Expires=Wed, 13-May-20 09:48:01 '\""
      ]
     },
     "execution_count": 7,
     "metadata": {},
     "output_type": "execute_result"
    }
   ],
   "source": [
    "new_js = second_js.replace('\\\\\\\\', '\\\\')\n",
    "\n",
    "new_js = 'cookie' + new_js.split('document.cookie')[1]\n",
    "new_js = new_js.split('GMT;Path=/;')[0] + \"'\"\n",
    "\n",
    "if re.findall(\"(var .{0,5}=)document\\.createElement\\('div'\\);\", new_js):\n",
    "        _3d = re.findall(\"(var .{0,5}=)document\\.createElement\\('div'\\);\", new_js)\n",
    "        _2b = re.findall(\"(var .{0,5}=).{0,5}\\.match\\(/https\\?:\\\\\\/\\\\\\//\\)\\[0\\];\", new_js)\n",
    "        new_js = re.sub(\n",
    "            \"var .{0,5}=document\\.createElement\\('div'\\);\", \n",
    "            _3d[0] + f'\"{index_url.replace(\"http://\", \"\")}\";',\n",
    "            new_js\n",
    "        )\n",
    "        new_js = re.sub(\"_.{0,5}\\.innerHTML='<a href=.{0,25}</a>';\", \"\", new_js)\n",
    "        new_js = re.sub(\"_.{0,5}=.{0,5}\\.firstChild\\.href;\", \"\", new_js)\n",
    "        new_js = re.sub(\"var .{0,5}=.{0,5}\\.match\\(/https\\?:\\\\\\/\\\\\\//\\)\\[0\\];\", _2b[0] + '\"http://\";', new_js)\n",
    "        new_js = re.sub(\"_.{0,5}=.{0,5}\\.substr\\(.{0,5}\\.length\\)\\.toLowerCase\\(\\);\", \"\", new_js)\n",
    "new_js"
   ]
  },
  {
   "cell_type": "markdown",
   "metadata": {},
   "source": [
    "处理js，去除Window"
   ]
  },
  {
   "cell_type": "code",
   "execution_count": 8,
   "metadata": {},
   "outputs": [],
   "source": [
    "find = re.findall(\"!*window\\[.*?\\]\", new_js)\n",
    "if find:\n",
    "    for f in find:\n",
    "        if '!' in f:\n",
    "            if len(re.findall('!', f)) % 2 == 0:\n",
    "                new_js = new_js.replace(f, 'false')\n",
    "            else:\n",
    "                new_js = new_js.replace(f, 'true')\n",
    "        else:\n",
    "            new_js = new_js.replace(f, 'undefined')\n",
    "new_js = new_js.replace('window.headless', 'undefined')"
   ]
  },
  {
   "cell_type": "code",
   "execution_count": 9,
   "metadata": {},
   "outputs": [
    {
     "data": {
      "text/plain": [
       "\"cookie='__jsl_clearance=1589359681.435|0|'+(function(){var _34=[function(_3f){return _3f},function(_34){return _34},function(_3f){return eval('String.fromCharCode('+_3f+')')},function(_3f){for(var _34=0;_34<_3f.length;_34++){_3f[_34]=parseInt(_3f[_34]).toString(36)};return _3f.join('')}],_3f=[(-~[]-~[]+(-~{}|-~[]-~[])+[]),'l',(-~[]-~[]+(-~{}|-~[]-~[])+[]),[[-~[((+!~~{})+[(-~~~[]<<-~~~[])]>>(-~~~[]<<-~~~[]))+((+!~~{})+[(-~~~[]<<-~~~[])]>>(-~~~[]<<-~~~[]))]]+[-~[]-~[]]],[[-~[]-~[]]+((+!{})+[[]][0])],'1',((+!{})+[[]][0]),'a',[(-~~~[]+7+[]+[])+(-~[]-~[]+(-~{}|-~[]-~[])+[])],'U',[(-~!/!/+2+[])+[-~[((+!~~{})+[(-~~~[]<<-~~~[])]>>(-~~~[]<<-~~~[]))+((+!~~{})+[(-~~~[]<<-~~~[])]>>(-~~~[]<<-~~~[]))]]],'2',[((-~!/!/+[(-~~~[]<<-~~~[])])/[(-~~~[]<<-~~~[])]+[]+[])+((-~!/!/+[(-~~~[]<<-~~~[])])/[(-~~~[]<<-~~~[])]+[]+[])],'0g',[(-~[]-~[]<<(+!~~{}))],'hCSR',[[-~[((+!~~{})+[(-~~~[]<<-~~~[])]>>(-~~~[]<<-~~~[]))+((+!~~{})+[(-~~~[]<<-~~~[])]>>(-~~~[]<<-~~~[]))]]+[-~[((+!~~{})+[(-~~~[]<<-~~~[])]>>(-~~~[]<<-~~~[]))+((+!~~{})+[(-~~~[]<<-~~~[])]>>(-~~~[]<<-~~~[]))]]],[(-~~~[]+[]+[[]][0])+(-~[]-~[]+(-~{}|-~[]-~[])+[])],'4',[[-~[((+!~~{})+[(-~~~[]<<-~~~[])]>>(-~~~[]<<-~~~[]))+((+!~~{})+[(-~~~[]<<-~~~[])]>>(-~~~[]<<-~~~[]))]]+((+!{})+[[]][0])],'k',[(-~~~[]+7+[]+[])+[9]],[[-~[]-~[]]+[9],(-~!/!/+2+[])+(-~~~[]+[]+[[]][0])],[[-~[((+!~~{})+[(-~~~[]<<-~~~[])]>>(-~~~[]<<-~~~[]))+((+!~~{})+[(-~~~[]<<-~~~[])]>>(-~~~[]<<-~~~[]))]]+[-~[((+!~~{})+[(-~~~[]<<-~~~[])]>>(-~~~[]<<-~~~[]))+((+!~~{})+[(-~~~[]<<-~~~[])]>>(-~~~[]<<-~~~[]))]],(-~!/!/+2+[])+[-~[((+!~~{})+[(-~~~[]<<-~~~[])]>>(-~~~[]<<-~~~[]))+((+!~~{})+[(-~~~[]<<-~~~[])]>>(-~~~[]<<-~~~[]))]]],(-~!/!/+2+[]),'D'];for(var _8=0;_8<_3f.length;_8++){_3f[_8]=_34[[0,1,0,2,3,1,0,1,2,1,2,1,2,1,0,1,2,3,1,2,1,2,3,2,0,1][_8]](_3f[_8])};return _3f.join('')})()+';Expires=Wed, 13-May-20 09:48:01 '\""
      ]
     },
     "execution_count": 9,
     "metadata": {},
     "output_type": "execute_result"
    }
   ],
   "source": [
    "new_js"
   ]
  },
  {
   "cell_type": "markdown",
   "metadata": {},
   "source": [
    "获取jsl_clearance"
   ]
  },
  {
   "cell_type": "code",
   "execution_count": 10,
   "metadata": {},
   "outputs": [
    {
     "data": {
      "text/plain": [
       "'1589359681.435|0|5l5Hk10aUU%2B0g4hCSRMf4FkYtvM%3D'"
      ]
     },
     "execution_count": 10,
     "metadata": {},
     "output_type": "execute_result"
    }
   ],
   "source": [
    "js = \"\"\"\n",
    "        function getJS() {\n",
    "        %s\n",
    "        return cookie\n",
    "        }\n",
    "    \"\"\" % new_js\n",
    "exec_js = execjs.compile(js)\n",
    "jsl = exec_js.call('getJS')\n",
    "jsl = jsl.split(';')[0]\n",
    "jsl_clearance = jsl.split('=')[1]\n",
    "jsl_clearance"
   ]
  },
  {
   "cell_type": "code",
   "execution_count": 11,
   "metadata": {},
   "outputs": [
    {
     "data": {
      "text/plain": [
       "'353678C3D2D1C18E74061263FBDF5B97-n1:-1'"
      ]
     },
     "execution_count": 11,
     "metadata": {},
     "output_type": "execute_result"
    }
   ],
   "source": [
    "# 获取第一个jessionid\n",
    "headers = index_header.copy()\n",
    "headers['Cookie'] = f'__jsluid_h={jsluid}; __jsl_clearance={jsl_clearance};'\n",
    "response2 = requests.get(index_url, headers=headers, proxies=proxy)\n",
    "JSESSIONID1 = re.findall('JSESSIONID=(.*?);', response2.headers['Set-Cookie'])[0]\n",
    "JSESSIONID1"
   ]
  },
  {
   "cell_type": "code",
   "execution_count": 12,
   "metadata": {},
   "outputs": [
    {
     "data": {
      "text/plain": [
       "'353678C3D2D1C18E74061263FBDF5B97-n1:0'"
      ]
     },
     "execution_count": 12,
     "metadata": {},
     "output_type": "execute_result"
    }
   ],
   "source": [
    "# 获取第二个jessionid\n",
    "import time\n",
    "\n",
    "url = 'http://www.gsxt.gov.cn/SearchItemCaptcha?t=' + str(int(time.time()*1000))\n",
    "headers = index_header.copy()\n",
    "headers['Cookie'] = f'__jsluid_h={jsluid}; __jsl_clearance={jsl_clearance};JSESSIONID={JSESSIONID1}'\n",
    "response3 = requests.get(url, headers=headers, proxies=proxy)\n",
    "JSESSIONID2 = re.findall('JSESSIONID=(.*?);', response3.headers['Set-Cookie'])[0]\n",
    "JSESSIONID2"
   ]
  },
  {
   "cell_type": "markdown",
   "metadata": {},
   "source": [
    "测试cookie，如果状态码是200，获取gt和challenge"
   ]
  },
  {
   "cell_type": "code",
   "execution_count": 13,
   "metadata": {},
   "outputs": [
    {
     "data": {
      "text/plain": [
       "200"
      ]
     },
     "execution_count": 13,
     "metadata": {},
     "output_type": "execute_result"
    }
   ],
   "source": [
    "import json\n",
    "\n",
    "headers = index_header.copy()\n",
    "headers['Cookie'] = f'__jsluid_h={jsluid}; __jsl_clearance={jsl_clearance};JSESSIONID={JSESSIONID2}'\n",
    "url = 'http://www.gsxt.gov.cn/SearchItemCaptcha?t=' + str(int(time.time()*1000))\n",
    "response4 = requests.get(url, headers=headers, proxies=proxy)\n",
    "response4.status_code"
   ]
  },
  {
   "cell_type": "code",
   "execution_count": 14,
   "metadata": {},
   "outputs": [],
   "source": [
    "gt_challenge_json = json.loads(response4.text)\n",
    "gt = gt_challenge_json['gt']\n",
    "challenge = gt_challenge_json['challenge']"
   ]
  },
  {
   "cell_type": "code",
   "execution_count": 15,
   "metadata": {},
   "outputs": [
    {
     "data": {
      "text/plain": [
       "'62756445cd524543f5a16418cd920ffd'"
      ]
     },
     "execution_count": 15,
     "metadata": {},
     "output_type": "execute_result"
    }
   ],
   "source": [
    "gt"
   ]
  },
  {
   "cell_type": "code",
   "execution_count": 16,
   "metadata": {},
   "outputs": [
    {
     "data": {
      "text/plain": [
       "'b041b14156e85d81a0047bfb64d4b753'"
      ]
     },
     "execution_count": 16,
     "metadata": {},
     "output_type": "execute_result"
    }
   ],
   "source": [
    "challenge"
   ]
  },
  {
   "cell_type": "markdown",
   "metadata": {},
   "source": [
    "## 下面开始搜索企业信息"
   ]
  },
  {
   "cell_type": "markdown",
   "metadata": {},
   "source": [
    "### 如果您看到这里，请给我一个star，谢谢，如有遗漏，请留言指正，感激！"
   ]
  },
  {
   "cell_type": "markdown",
   "metadata": {},
   "source": [
    "这里先走一遍采集流程，本地打码服务的实现稍后整理，要先整理完模型训练部分才能打码\n",
    "服务实现流程：\n",
    "1. 拿到gt和challenge获取验证码，验证码有两种\n",
    "    - 滑动3.0\n",
    "    - 文字点选，这部分的训练模型已经开源了，移步首页\n",
    "2. 破解验证码，获取validate"
   ]
  },
  {
   "cell_type": "code",
   "execution_count": 18,
   "metadata": {},
   "outputs": [],
   "source": [
    "# 本地打码服务器，所有验证码类型在这里统一处理，返回validate即可\n",
    "get_valid_server = 'http://127.0.0.1:8000'"
   ]
  },
  {
   "cell_type": "code",
   "execution_count": 19,
   "metadata": {},
   "outputs": [
    {
     "data": {
      "text/plain": [
       "<RequestsCookieJar[Cookie(version=0, name='HttpOnly', value=None, port=None, port_specified=False, domain='www.gsxt.gov.cn', domain_specified=False, domain_initial_dot=False, path='/', path_specified=False, secure=True, expires=None, discard=True, comment=None, comment_url=None, rest={}, rfc2109=False), Cookie(version=0, name='JSESSIONID', value='353678C3D2D1C18E74061263FBDF5B97-n1:1', port=None, port_specified=False, domain='www.gsxt.gov.cn', domain_specified=False, domain_initial_dot=False, path='/', path_specified=True, secure=False, expires=None, discard=True, comment=None, comment_url=None, rest={'HttpOnly': None}, rfc2109=False), Cookie(version=0, name='tlb_cookie', value='S172.16.12.46', port=None, port_specified=False, domain='www.gsxt.gov.cn', domain_specified=False, domain_initial_dot=False, path='/', path_specified=True, secure=False, expires=None, discard=True, comment=None, comment_url=None, rest={}, rfc2109=False)]>"
      ]
     },
     "execution_count": 19,
     "metadata": {},
     "output_type": "execute_result"
    }
   ],
   "source": [
    "cookies"
   ]
  },
  {
   "cell_type": "code",
   "execution_count": 20,
   "metadata": {},
   "outputs": [
    {
     "name": "stdout",
     "output_type": "stream",
     "text": [
      "start time : Wed May 13 16:48:07 2020\n"
     ]
    },
    {
     "data": {
      "text/plain": [
       "{'data': {'challenge': 'b041b14156e85d81a0047bfb64d4b753',\n",
       "  'result': 'success',\n",
       "  'validate': 'd13ba282a1dee26d1ff40c395a39a6db'},\n",
       " 'status': 'success'}"
      ]
     },
     "execution_count": 20,
     "metadata": {},
     "output_type": "execute_result"
    }
   ],
   "source": [
    "url = f'{get_valid_server}/geetest?gt={gt}&challenge={challenge}'\n",
    "print(f\"start time : {time.asctime(time.localtime(time.time()))}\")\n",
    "response = requests.get(url=url)\n",
    "val_resu = json.loads(response.text)\n",
    "\n",
    "val_resu"
   ]
  },
  {
   "cell_type": "code",
   "execution_count": 21,
   "metadata": {},
   "outputs": [],
   "source": [
    "from lxml.etree import _Element\n",
    "from lxml import etree\n",
    "\n",
    "def parse_list(content):\n",
    "    def try_catch(data, patten):\n",
    "        if isinstance(data, _Element):\n",
    "            try:\n",
    "                target = re.sub('\\s', '', data.xpath(patten)[0].strip())\n",
    "            except:\n",
    "                target = None\n",
    "            return target\n",
    "        return data\n",
    "    a_list = []\n",
    "    content_list = content\n",
    "    html = etree.HTML(content_list)\n",
    "    list_len = int(html.xpath('//span[@class=\"search_result_span1\"]/text()')[0])\n",
    "    if list_len == 0:\n",
    "        return '没有此公司'\n",
    "    else:\n",
    "        targit_len = 1\n",
    "    for i in range(1, targit_len + 1):\n",
    "        try:\n",
    "            url = html.xpath('//div[@class=\"main-layout fw f14\"]/div[2]/a[' + str(i) + ']/@href')[0]\n",
    "            href = 'http://www.gsxt.gov.cn{}'.format(url)\n",
    "        except:\n",
    "            href = None\n",
    "        status = try_catch(html, '//div[@class=\"main-layout fw f14\"]/div[2]/a[' + str(i) + ']/div[1]/span/text()')\n",
    "        try:\n",
    "            history = html.xpath(\n",
    "                '//div[@class=\"main-layout fw f14\"]/div[2]/a[' + str(i) + ']/div[2]/div[4]/span//text()')\n",
    "            history_name = ''.join(history).strip().replace(\"\\r\", '').replace(\"\\n\", '').replace(\"\\t\", '')\n",
    "        except:\n",
    "            history_name = None\n",
    "        dic = {\n",
    "            'href': href,\n",
    "            'history_name': history_name,\n",
    "            'status': status,\n",
    "        }\n",
    "        a_list.append(dic)\n",
    "    return a_list"
   ]
  },
  {
   "cell_type": "code",
   "execution_count": 22,
   "metadata": {},
   "outputs": [],
   "source": [
    "def list_page(val_resu, jsluid, jsl_clearance, JSESSIONID):\n",
    "    time.sleep(1)\n",
    "    validate = val_resu['data']['validate']\n",
    "    chall = val_resu['data']['challenge']\n",
    "    data = {\n",
    "        'tab': 'ent_tab',\n",
    "        'province': '',\n",
    "        'geetest_challenge': chall,\n",
    "        'geetest_validate': validate,\n",
    "        'geetest_seccode': '{}|jordan'.format(validate),\n",
    "        'token': '57571798',\n",
    "        'searchword': '百度',\n",
    "    }\n",
    "    time.sleep(5)\n",
    "    headers =index_header.copy()\n",
    "    headers['Cookie'] = f'__jsluid_h={jsluid}; __jsl_clearance={jsl_clearance};JSESSIONID={JSESSIONID}'\n",
    "    post_url = 'http://www.gsxt.gov.cn/corp-query-search-1.html'\n",
    "    content = requests.post(url=post_url, data=data, headers=headers, verify=False, timeout=(60, 60), proxies=proxy)\n",
    "    if content.status_code == 200:\n",
    "        if '您的IP地址' in content.text:\n",
    "            print('ip被反爬')\n",
    "        else:\n",
    "            return content.text\n",
    "    else:\n",
    "        print('cookies失效')"
   ]
  },
  {
   "cell_type": "code",
   "execution_count": 23,
   "metadata": {},
   "outputs": [],
   "source": [
    "if val_resu['status'] == 'success':\n",
    "    content_text = list_page(val_resu, jsluid, jsl_clearance, JSESSIONID2)\n",
    "else:\n",
    "    print('get valid error')"
   ]
  },
  {
   "cell_type": "code",
   "execution_count": 24,
   "metadata": {},
   "outputs": [],
   "source": [
    "a_list = parse_list(content_text)"
   ]
  },
  {
   "cell_type": "code",
   "execution_count": 25,
   "metadata": {},
   "outputs": [
    {
     "data": {
      "text/plain": [
       "[{'href': 'http://www.gsxt.gov.cn/%7BEA323F6A82139EB87124F869A0CF1CF4A1E69F56C780EFB6BB2AC297D0527623FFB8D78E83126B4D7A92B483FA265FCEA0751FDAD4FB628FA0CA07EAC5E4028302BF02BF02CF56B556EBDF12BF70BD119680190BE1AD60AF45C2F65B963A977A369A8C20CAC38053D1333BF29D4E22FE16DFA322A30FB28AF3D5E29BDC0FC6BA3B863B863B86-1589359162019%7D',\n",
       "  'history_name': '',\n",
       "  'status': '开业'}]"
      ]
     },
     "execution_count": 25,
     "metadata": {},
     "output_type": "execute_result"
    }
   ],
   "source": [
    "a_list"
   ]
  },
  {
   "cell_type": "code",
   "execution_count": 30,
   "metadata": {},
   "outputs": [],
   "source": [
    "headers =index_header.copy()\n",
    "headers['Cookie'] = f'__jsluid_h={jsluid}; __jsl_clearance={jsl_clearance};JSESSIONID={JSESSIONID2}'\n",
    "detail = requests.get(url=a_list[0]['href'], headers = headers, proxies = proxy)"
   ]
  },
  {
   "cell_type": "code",
   "execution_count": 31,
   "metadata": {},
   "outputs": [
    {
     "data": {
      "text/plain": [
       "<Response [200]>"
      ]
     },
     "execution_count": 31,
     "metadata": {},
     "output_type": "execute_result"
    }
   ],
   "source": [
    "detail"
   ]
  },
  {
   "cell_type": "code",
   "execution_count": 40,
   "metadata": {},
   "outputs": [
    {
     "data": {
      "text/plain": [
       "'北京百度网讯科技有限公司'"
      ]
     },
     "execution_count": 40,
     "metadata": {},
     "output_type": "execute_result"
    }
   ],
   "source": [
    "etree.HTML(detail.text).xpath(\"//h1\")[0].text.strip()"
   ]
  }
 ],
 "metadata": {
  "kernelspec": {
   "display_name": "blog",
   "language": "python",
   "name": "blog"
  },
  "language_info": {
   "codemirror_mode": {
    "name": "ipython",
    "version": 3
   },
   "file_extension": ".py",
   "mimetype": "text/x-python",
   "name": "python",
   "nbconvert_exporter": "python",
   "pygments_lexer": "ipython3",
   "version": "3.7.5"
  }
 },
 "nbformat": 4,
 "nbformat_minor": 2
}
